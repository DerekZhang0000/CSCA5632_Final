{
  "cells": [
    {
      "cell_type": "code",
      "execution_count": null,
      "metadata": {
        "colab": {
          "base_uri": "https://localhost:8080/",
          "height": 35
        },
        "id": "Y6rOOTXyVSPQ",
        "outputId": "0c5072e3-f037-4e67-f7d7-7e58641085a1"
      },
      "outputs": [
        {
          "data": {
            "application/vnd.google.colaboratory.intrinsic+json": {
              "type": "string"
            },
            "text/plain": [
              "'\\n  Final Project\\n  Restaurant Suggester\\n  Derek Zhang\\n'"
            ]
          },
          "execution_count": 1,
          "metadata": {},
          "output_type": "execute_result"
        }
      ],
      "source": [
        "\"\"\"\n",
        "  Final Project\n",
        "  Restaurant Suggester\n",
        "  Derek Zhang\n",
        "  Data taken from https://www.kaggle.com/datasets/thedevastator/restaurant-and-consumer-context-aware-recommenda\n",
        "\"\"\""
      ]
    },
    {
      "cell_type": "code",
      "execution_count": 2,
      "metadata": {
        "id": "LLH4852hqP-l"
      },
      "outputs": [],
      "source": [
        "import os\n",
        "import pandas as pd\n",
        "import numpy as np\n",
        "from sklearn.decomposition import NMF\n",
        "from sklearn.metrics import mean_squared_error\n",
        "from math import sqrt"
      ]
    },
    {
      "cell_type": "code",
      "execution_count": 3,
      "metadata": {
        "colab": {
          "base_uri": "https://localhost:8080/"
        },
        "id": "5f-3bEg4VoVE",
        "outputId": "d48b5074-1c6f-494d-c61c-c1392409bbc1"
      },
      "outputs": [
        {
          "name": "stdout",
          "output_type": "stream",
          "text": [
            "RMSE: 0.843796614030384\n"
          ]
        }
      ],
      "source": [
        "\"\"\"\n",
        "  Exploratory Data Analysis\n",
        "\"\"\"\n",
        "\n",
        "# from google.colab import drive\n",
        "# drive.mount('/content/drive')\n",
        "\n",
        "# DATA_DIR = '/content/drive/MyDrive/College/CU Boulder/S3-1/Unsupervised Algorithms in Machine Learning/Final/'\n",
        "DATA_DIR = './'\n",
        "\n",
        "rating_df = pd.read_csv(os.path.join(DATA_DIR, 'rating_final.csv'))[['userID', 'placeID', 'rating']]\n",
        "places_df = pd.read_csv(os.path.join(DATA_DIR, 'geoplaces2.csv'))[['placeID', 'name']]\n",
        "restaurant_df = rating_df.merge(places_df, on='placeID', how='left')\n",
        "\n",
        "user_item_matrix = restaurant_df.pivot(index='userID', columns='placeID', values='rating')\n",
        "filled_matrix = user_item_matrix.fillna(0).values\n",
        "\n",
        "n_components = 20\n",
        "nmf = NMF(n_components=n_components, init='random', random_state=42)\n",
        "W = nmf.fit_transform(filled_matrix)\n",
        "H = nmf.components_\n",
        "\n",
        "predicted_ratings = np.dot(W, H)\n",
        "\n",
        "true_ratings = filled_matrix[filled_matrix.nonzero()]\n",
        "predicted_ratings_filtered = predicted_ratings[filled_matrix.nonzero()]\n",
        "rmse = sqrt(mean_squared_error(true_ratings, predicted_ratings_filtered))\n",
        "\n",
        "print(f\"RMSE: {rmse}\")"
      ]
    },
    {
      "cell_type": "markdown",
      "metadata": {
        "id": "Miy7Id783xcZ"
      },
      "source": [
        "For our initial exploratory data analysis, I constructed a matrix with the restaurant customers (users) and the customers' ratings of the restaurants. Using Sklearn's Non-Negative Matrix Factorization, we can see a RMSE of 0.84. Since the rating is from a scale of 0 (did not like) to 2 (liked), this appears to have a quite significant error."
      ]
    },
    {
      "cell_type": "code",
      "execution_count": 4,
      "metadata": {
        "colab": {
          "base_uri": "https://localhost:8080/",
          "height": 540
        },
        "id": "l-KiM23R4nql",
        "outputId": "ec2e9b4f-d7bc-46f0-be6f-3cd69f6174ef"
      },
      "outputs": [
        {
          "data": {
            "image/png": "[encoded data removed]",
            "text/plain": [
              "<Figure size 1200x600 with 1 Axes>"
            ]
          },
          "metadata": {},
          "output_type": "display_data"
        }
      ],
      "source": [
        "\"\"\"\n",
        "  Exploratory Data Analysis Continued\n",
        "\"\"\"\n",
        "\n",
        "import seaborn as sns\n",
        "import matplotlib.pyplot as plt\n",
        "\n",
        "missing_values = user_item_matrix.isnull()\n",
        "plt.figure(figsize=(12, 6))\n",
        "sns.heatmap(missing_values, cmap=['black', 'white'], cbar=False, linewidths=0.5, xticklabels=False, yticklabels=False)\n",
        "\n",
        "plt.xlabel(\"Restaurant (placeID)\")\n",
        "plt.ylabel(\"User (userID)\")\n",
        "plt.title(\"Heatmap of Missing Ratings (White is missing, Black is present)\")\n",
        "\n",
        "plt.show()"
      ]
    },
    {
      "cell_type": "markdown",
      "metadata": {
        "id": "6ZbbMCFI6Lue"
      },
      "source": [
        "As the customer-restaurant heatmap shows, the dataset is quite sparse. In order to achieve more accurate predictions, we will need to use methods that are better suited for sparse datasets."
      ]
    },
    {
      "cell_type": "code",
      "execution_count": 5,
      "metadata": {
        "colab": {
          "base_uri": "https://localhost:8080/"
        },
        "id": "D5Mam3Nw6jxQ",
        "outputId": "b6ce7f22-520b-44c4-f78b-667b4c4e8232"
      },
      "outputs": [
        {
          "name": "stdout",
          "output_type": "stream",
          "text": [
            "Model RMSE: 0.658452063222099\n"
          ]
        }
      ],
      "source": [
        "\"\"\"\n",
        "  Collaborative Filtering and K-Nearest Neighbor Model\n",
        "\"\"\"\n",
        "import warnings\n",
        "warnings.simplefilter(action='ignore', category=FutureWarning)\n",
        "\n",
        "from sklearn.model_selection import train_test_split\n",
        "from sklearn.neighbors import NearestNeighbors\n",
        "from sklearn.preprocessing import StandardScaler\n",
        "from sklearn.metrics.pairwise import cosine_similarity\n",
        "import numpy as np\n",
        "import pandas as pd\n",
        "from sklearn.metrics import mean_squared_error\n",
        "import os\n",
        "from math import sqrt\n",
        "\n",
        "train_df, test_df = train_test_split(restaurant_df, test_size=0.2, random_state=42)\n",
        "user_item_matrix = train_df.pivot(index=\"userID\", columns=\"placeID\", values=\"rating\").fillna(0)\n",
        "\n",
        "k = 2\n",
        "knn_model = NearestNeighbors(n_neighbors=k, metric='cosine', algorithm='brute')\n",
        "knn_model.fit(user_item_matrix.T.values)\n",
        "\n",
        "true_ratings = []\n",
        "predicted_ratings = []\n",
        "\n",
        "for _, row in test_df.iterrows():\n",
        "    user_id = row[\"userID\"]\n",
        "    place_id = row[\"placeID\"]\n",
        "    actual_rating = row[\"rating\"]\n",
        "\n",
        "    if (user_id not in user_item_matrix.index) or (place_id not in user_item_matrix.columns):\n",
        "        continue\n",
        "\n",
        "    user_ratings = user_item_matrix.loc[user_id].values.reshape(1, -1)\n",
        "    item_idx = user_item_matrix.columns.get_loc(place_id)\n",
        "    item_vector = user_item_matrix.T.iloc[item_idx].values.reshape(1, -1)\n",
        "\n",
        "    distances, indices = knn_model.kneighbors(item_vector, n_neighbors=k+1)\n",
        "    similarities = 1 - distances.flatten()\n",
        "\n",
        "    similarities = similarities[1:]\n",
        "    indices = indices.flatten()[1:]\n",
        "\n",
        "    similar_items_ratings = np.array([user_item_matrix.iloc[user_item_matrix.index.get_loc(user_id), idx]\n",
        "                                    for idx in indices])\n",
        "\n",
        "    if np.sum(similarities) > 0 and np.sum(similar_items_ratings > 0) > 0:\n",
        "        mask = similar_items_ratings > 0\n",
        "        if np.any(mask):\n",
        "            used_similarities = similarities[mask]\n",
        "            used_ratings = similar_items_ratings[mask]\n",
        "\n",
        "            predicted_rating = np.sum(used_similarities * used_ratings) / np.sum(used_similarities)\n",
        "            true_ratings.append(actual_rating)\n",
        "            predicted_ratings.append(predicted_rating)\n",
        "\n",
        "rmse = sqrt(mean_squared_error(true_ratings, predicted_ratings))\n",
        "print(f\"Model RMSE: {rmse}\")"
      ]
    },
    {
      "cell_type": "markdown",
      "metadata": {
        "id": "2L4Hy18yvBOJ"
      },
      "source": [
        "The K-Nearest Neighbors model (k = 2) performed marginally better than the Non-Negative Matrix Factorization with a RMSE of 0.66. This is a slight improvement, but is still far from accurate. This may be due to the fact that is it difficult to predict what kind of restaurant someone likes based purely on their habits, income, and such."
      ]
    },
    {
      "cell_type": "code",
      "execution_count": 6,
      "metadata": {
        "colab": {
          "base_uri": "https://localhost:8080/"
        },
        "id": "-cEOhjwXwwPu",
        "outputId": "234c1757-c431-4b67-8ffd-7ea5bd44fc07"
      },
      "outputs": [
        {
          "name": "stdout",
          "output_type": "stream",
          "text": [
            "['Kiku Cuernavaca', 'Giovannis', 'Mariscos Tia Licha', 'Vips', 'Restaurant la Chalita', 'Restaurante Casa de las Flores', 'Restaurante Bar Fu-hao', 'Restaurant Las Mananitas', 'McDonalds Centro', 'Restaurant Bar Coty y Pablo']\n"
          ]
        }
      ],
      "source": [
        "\"\"\"\n",
        "  K-Nearest Neighbor Restaurant Prediction\n",
        "\"\"\"\n",
        "\n",
        "import warnings\n",
        "warnings.simplefilter(action='ignore', category=UserWarning)\n",
        "from sklearn.preprocessing import LabelEncoder\n",
        "\n",
        "def preprocess_user_data(user_attributes_df):\n",
        "    user_attributes = user_attributes_df.copy()\n",
        "    label_encoders = {}\n",
        "\n",
        "    categorical_cols = user_attributes.select_dtypes(include=['object']).columns\n",
        "    numerical_cols = user_attributes.select_dtypes(include=['int64', 'float64']).columns\n",
        "    numerical_cols = [col for col in numerical_cols if col != 'userID']\n",
        "\n",
        "    for col in categorical_cols:\n",
        "        le = LabelEncoder()\n",
        "        user_attributes[col] = le.fit_transform(user_attributes[col].astype(str))\n",
        "        label_encoders[col] = le\n",
        "\n",
        "    if len(numerical_cols) > 0:\n",
        "        scaler = StandardScaler()\n",
        "        user_attributes[numerical_cols] = scaler.fit_transform(user_attributes[numerical_cols])\n",
        "    else:\n",
        "        scaler = StandardScaler()\n",
        "\n",
        "    return user_attributes, label_encoders, scaler\n",
        "\n",
        "def train_knn(user_attributes_df, k=2):\n",
        "    features = user_attributes_df.drop('userID', axis=1) if 'userID' in user_attributes_df.columns else user_attributes_df\n",
        "    knn_model = NearestNeighbors(n_neighbors=k, metric='cosine', algorithm='brute')\n",
        "    knn_model.fit(features)\n",
        "\n",
        "    return knn_model\n",
        "\n",
        "def get_top_n_restaurants(user_profile, user_attributes_df, user_item_matrix, knn_model, places_df, label_encoders, scaler, k=2, n=10):\n",
        "    relevant_columns = [col for col in user_attributes_df.columns if col != 'userID']\n",
        "    new_user_data = {}\n",
        "\n",
        "    for col in relevant_columns:\n",
        "        if col in user_profile:\n",
        "            if col in label_encoders:\n",
        "                try:\n",
        "                    new_user_data[col] = label_encoders[col].transform([user_profile[col]])[0]\n",
        "                except ValueError:\n",
        "                    new_user_data[col] = 0\n",
        "            else:\n",
        "                new_user_data[col] = float(user_profile[col])\n",
        "        else:\n",
        "            if user_attributes_df[col].dtype in [np.float64, np.int64]:\n",
        "                new_user_data[col] = user_attributes_df[col].mean()\n",
        "            else:\n",
        "                new_user_data[col] = 0\n",
        "\n",
        "    feature_order = [col for col in relevant_columns]\n",
        "    new_user_vector = np.array([new_user_data.get(col, 0) for col in feature_order]).reshape(1, -1)\n",
        "\n",
        "    if new_user_vector.shape[1] == len(feature_order):\n",
        "        try:\n",
        "            new_user_vector = scaler.transform(new_user_vector)\n",
        "        except:\n",
        "          pass\n",
        "\n",
        "    distances, indices = knn_model.kneighbors(new_user_vector, n_neighbors=min(k, len(user_attributes_df)))\n",
        "    similar_users = user_attributes_df.iloc[indices.flatten()][\"userID\"].tolist()\n",
        "    similar_users_ratings = user_item_matrix.loc[user_item_matrix.index.isin(similar_users)]\n",
        "\n",
        "    avg_ratings = similar_users_ratings.mean().sort_values(ascending=False)\n",
        "    top_restaurants = avg_ratings.index[:min(n, len(avg_ratings))]\n",
        "\n",
        "    return places_df[places_df[\"placeID\"].isin(top_restaurants)][\"name\"].tolist()\n",
        "\n",
        "user_columns = ['userID', 'smoker', 'drink_level', 'dress_preference', 'ambience', 'transport', 'marital_status', 'hijos',\n",
        "                'birth_year', 'interest', 'personality', 'religion', 'activity', 'weight', 'budget', 'height']\n",
        "user_df = pd.read_csv(os.path.join(DATA_DIR, 'userprofile.csv'))[user_columns]\n",
        "encoded_user_df, label_encoders, scaler = preprocess_user_data(user_df)\n",
        "knn_model = train_knn(encoded_user_df)\n",
        "\n",
        "user_profile = {\n",
        "    \"smoker\": \"false\",\n",
        "    \"drink_level\": \"social drinker\",\n",
        "    \"dress_preference\": \"informal\",\n",
        "    \"ambience\": \"family\",\n",
        "    \"transport\": \"car owner\",\n",
        "}\n",
        "\n",
        "recommended_restaurants = get_top_n_restaurants(user_profile, user_df, user_item_matrix, knn_model, places_df, label_encoders, scaler)\n",
        "print(recommended_restaurants)"
      ]
    },
    {
      "cell_type": "markdown",
      "metadata": {
        "id": "9Gu5LbiJw2-Z"
      },
      "source": [
        "Using a K-Nearest Neighbor model, we can try to predict which restaurants a user will like the most based on their profile. Feel free to play around with the profile values.\n",
        "\n",
        "Here are the parameters with their possible values:\n",
        "\n",
        "* smoker: [false,true]\n",
        "* drink_level: [abstemious,social drinker,casual drinker]\n",
        "* dress_preference: [informal,formal,no preference,elegant]\n",
        "* ambience: [family,friends,solitary]\n",
        "* transport: [on foot,public,car owner]\n",
        "* marital_status:\t[single,married,widow]\n",
        "* hijos: [independent,kids,dependent]\n",
        "* birth_year:\tInteger\n",
        "* interest: [variety,technology,none,retro,eco-friendly]\n",
        "* personality: [thrifty-protector,hunter-ostentatious,hard-worker,conformist]\n",
        "* religion: [none,Catholic,Christian,Mormon,Jewish]\n",
        "* weight: Numeric\n",
        "* budget: [medium,low,high]\n",
        "* height: Numeric\n",
        "\n"
      ]
    }
  ],
  "metadata": {
    "colab": {
      "provenance": []
    },
    "kernelspec": {
      "display_name": "Python 3",
      "name": "python3"
    },
    "language_info": {
      "name": "python"
    }
  },
  "nbformat": 4,
  "nbformat_minor": 0
}
